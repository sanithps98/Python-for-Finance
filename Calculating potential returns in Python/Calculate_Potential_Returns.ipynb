{
 "cells": [
  {
   "cell_type": "markdown",
   "metadata": {},
   "source": [
    "# **Calculating potential returns in Python**"
   ]
  },
  {
   "cell_type": "code",
   "execution_count": 1,
   "metadata": {},
   "outputs": [],
   "source": [
    "import pandas as pd\n",
    "import numpy as np"
   ]
  },
  {
   "cell_type": "markdown",
   "metadata": {},
   "source": [
    "You are a rich investor and somebody comes to you with an investment opportunity to invest in an advertising billboard at a busy junction. The offer is as follows :\n",
    "\n",
    "- You are required to pay \\\\$70000 today\n",
    "- The investment is for 5 years\n",
    "- The billboard pays an annual rent of \\\\$10000\n",
    "- Current interest rates are 5%\n",
    "- After five years the billboard needs upgrades, but you don’t want to bother with that.\n",
    "\n",
    "You are fairly confident that you could sell this investment to someone at $45000, after 5 years and let them\n",
    "do the upgrades.\n",
    "\n",
    "Is this a good deal?\n",
    "\n",
    "- Future value (FV) : \\\\$45000\n",
    "- Yearly Payment (PMT) : \\\\$10000\n",
    "- Period (N) : 5 years\n",
    "- Interest rates (IR) : 5%\n",
    "- Present value (PV) : ? "
   ]
  },
  {
   "cell_type": "code",
   "execution_count": 6,
   "metadata": {},
   "outputs": [
    {
     "name": "stdout",
     "output_type": "stream",
     "text": [
      "   Year     cf            pv\n",
      "0     1  10000   9523.809524\n",
      "1     2  10000   9070.294785\n",
      "2     3  10000   8638.375985\n",
      "3     4  10000   8227.024748\n",
      "4     5  55000  43093.939156\n"
     ]
    }
   ],
   "source": [
    "# First we build our cash flow table\n",
    "billboard_cashflow = pd.DataFrame({\"Year\":np.arange(1,6),\"cf\":[10000,10000,10000,10000,55000]})  # The last payment includes the $45000 sale price\n",
    "\n",
    "# interest rates\n",
    "ir = 0.05\n",
    "\n",
    "billboard_cashflow[\"pv\"] = billboard_cashflow[\"cf\"] / (1 + ir) ** billboard_cashflow[\"Year\"]\n",
    "print(billboard_cashflow)"
   ]
  },
  {
   "cell_type": "code",
   "execution_count": 7,
   "metadata": {},
   "outputs": [
    {
     "name": "stdout",
     "output_type": "stream",
     "text": [
      "78553.44419738883\n"
     ]
    }
   ],
   "source": [
    "pv = billboard_cashflow[\"pv\"].sum()\n",
    "print(pv)"
   ]
  },
  {
   "cell_type": "markdown",
   "metadata": {},
   "source": [
    "Based on our calculations the present value of the billboard is about 78553.44. Offer to buy this investment opportunity is \\\\$70000, so our net present value (NPV) is 8553.44. Since we have a positive NPV, we can conclude that **this is a good deal if interest rate is 5%**"
   ]
  },
  {
   "cell_type": "markdown",
   "metadata": {},
   "source": [
    "But you also receive a call from your brother in law Jim, who wants to start a laundromat business. The cost of laundromat is \\\\$200000,but is short exactly \\\\$70000. He is willing to pay you 7.5% for the the loan. \n",
    "\n",
    "- You are required to loan \\\\$70000 today\n",
    "- Current interest rates are 7.5%\n",
    "\n",
    "You reason that Jim is fairly good with money and he maybe able to pay the money back.\n",
    "\n",
    "Is this a good deal?"
   ]
  },
  {
   "cell_type": "code",
   "execution_count": 8,
   "metadata": {},
   "outputs": [
    {
     "name": "stdout",
     "output_type": "stream",
     "text": [
      "   Year     cf            pv\n",
      "0     1  10000   9302.325581\n",
      "1     2  10000   8653.326122\n",
      "2     3  10000   8049.605695\n",
      "3     4  10000   7488.005298\n",
      "4     5  55000  38310.724779\n"
     ]
    }
   ],
   "source": [
    "billboard_cashflow = pd.DataFrame({\"Year\":np.arange(1,6),\"cf\":[10000,10000,10000,10000,55000]})  # The last payment includes the $45000 sale price\n",
    "\n",
    "# interest rates\n",
    "ir = 0.075 # new Interest rate\n",
    "\n",
    "billboard_cashflow[\"pv\"] = billboard_cashflow[\"cf\"] / (1 + ir) ** billboard_cashflow[\"Year\"]\n",
    "print(billboard_cashflow)"
   ]
  },
  {
   "cell_type": "code",
   "execution_count": 9,
   "metadata": {},
   "outputs": [
    {
     "name": "stdout",
     "output_type": "stream",
     "text": [
      "71803.98747573976\n"
     ]
    }
   ],
   "source": [
    "pv = billboard_cashflow[\"pv\"].sum()\n",
    "print(pv)"
   ]
  },
  {
   "cell_type": "markdown",
   "metadata": {},
   "source": [
    "At 7.5% return, the value of the billboard drops about 10% from \\\\$78500 to \\\\$71800. \n",
    "\n",
    "This is an important principle in Finance : **as interest rates rise, value of risky assets drop** "
   ]
  }
 ],
 "metadata": {
  "kernelspec": {
   "display_name": "Python",
   "language": "python",
   "name": "conda-env-python-py"
  },
  "language_info": {
   "codemirror_mode": {
    "name": "ipython",
    "version": 3
   },
   "file_extension": ".py",
   "mimetype": "text/x-python",
   "name": "python",
   "nbconvert_exporter": "python",
   "pygments_lexer": "ipython3",
   "version": "3.6.10"
  }
 },
 "nbformat": 4,
 "nbformat_minor": 4
}
