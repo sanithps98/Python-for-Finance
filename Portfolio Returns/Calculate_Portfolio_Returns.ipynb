{
 "cells": [
  {
   "cell_type": "markdown",
   "metadata": {},
   "source": [
    "# **Calculating portfolio returns and Cumulative portfolio returns in Python**"
   ]
  },
  {
   "cell_type": "markdown",
   "metadata": {},
   "source": [
    "### **Calculating portfolio returns using the formula**\n",
    "\n",
    "A portfolio return is the weighted average of individual assets in the portfolio.\n",
    "\n",
    "Here is what we need :\n",
    "\n",
    "- Asset symbols that make up our portfolio\n",
    "- Price data for the assets\n",
    "- Weights of assets\n",
    "- Calculating the weighted average of our assets returns\n",
    "- Adding them to get the portfolio returns\n"
   ]
  },
  {
   "cell_type": "code",
   "execution_count": 1,
   "metadata": {},
   "outputs": [
    {
     "name": "stderr",
     "output_type": "stream",
     "text": [
      "/home/jupyterlab/conda/envs/python/lib/python3.6/site-packages/pandas_datareader/compat/__init__.py:7: FutureWarning: pandas.util.testing is deprecated. Use the functions in the public API at pandas.testing instead.\n",
      "  from pandas.util.testing import assert_frame_equal\n"
     ]
    }
   ],
   "source": [
    "import pandas as pd\n",
    "import numpy as np\n",
    "import matplotlib.pyplot as plt\n",
    "import pandas_datareader as data"
   ]
  },
  {
   "cell_type": "markdown",
   "metadata": {},
   "source": [
    "We will invest in the following assets\n",
    "\n",
    "- Aggregate Bonds ETF (BND) 10%\n",
    "- Small Cap ETF (VB) 20%\n",
    "- Developed markets ETF (VEA) 25%\n",
    "- S&P 500 ETF (VOO) 25%\n",
    "- Emerging Markets ETF (VWO) 20%\n",
    "\n",
    "So lets assign our assets to the symbols variable."
   ]
  },
  {
   "cell_type": "code",
   "execution_count": 2,
   "metadata": {},
   "outputs": [],
   "source": [
    "symbols = ['VOO','VEA', 'VB', 'VWO','BND']"
   ]
  },
  {
   "cell_type": "markdown",
   "metadata": {},
   "source": [
    "Next we download the price data for the assets."
   ]
  },
  {
   "cell_type": "code",
   "execution_count": 3,
   "metadata": {},
   "outputs": [
    {
     "name": "stdout",
     "output_type": "stream",
     "text": [
      "Attributes   Adj Close                                              \\\n",
      "Symbols            VOO        VEA         VB        VWO        BND   \n",
      "Date                                                                 \n",
      "2013-01-02  115.581253  28.805780  74.857475  37.326729  68.750298   \n",
      "2013-01-03  115.477432  28.516197  74.812477  37.105087  68.545433   \n",
      "2013-01-04  115.961922  28.677080  75.379364  37.170753  68.651955   \n",
      "2013-01-07  115.650497  28.532288  75.154419  36.850594  68.602821   \n",
      "2013-01-08  115.304459  28.379452  75.010437  36.546867  68.668343   \n",
      "\n",
      "Attributes       Close                                              ...  \\\n",
      "Symbols            VOO        VEA         VB        VWO        BND  ...   \n",
      "Date                                                                ...   \n",
      "2013-01-02  133.600006  35.810001  83.190002  45.470001  83.900002  ...   \n",
      "2013-01-03  133.479996  35.450001  83.139999  45.200001  83.650002  ...   \n",
      "2013-01-04  134.039993  35.650002  83.769997  45.279999  83.779999  ...   \n",
      "2013-01-07  133.679993  35.470001  83.519997  44.889999  83.720001  ...   \n",
      "2013-01-08  133.279999  35.279999  83.360001  44.520000  83.800003  ...   \n",
      "\n",
      "Attributes        Open                                                 Volume  \\\n",
      "Symbols            VOO        VEA         VB        VWO        BND        VOO   \n",
      "Date                                                                            \n",
      "2013-01-02  132.940002  35.810001  82.849998  45.130001  83.779999  2166600.0   \n",
      "2013-01-03  133.639999  35.570000  83.320000  45.160000  83.910004  1146100.0   \n",
      "2013-01-04  133.619995  35.410000  83.510002  44.980000  83.610001   574300.0   \n",
      "2013-01-07  133.539993  35.360001  83.440002  44.900002  83.709999   598200.0   \n",
      "2013-01-08  133.440002  35.360001  83.529999  44.709999  83.750000   476100.0   \n",
      "\n",
      "Attributes                                              \n",
      "Symbols           VEA        VB         VWO        BND  \n",
      "Date                                                    \n",
      "2013-01-02  4903500.0  732800.0  25446200.0  1857300.0  \n",
      "2013-01-03  3764100.0  448700.0  47765500.0  1908500.0  \n",
      "2013-01-04  3242400.0  337800.0  19000300.0  1822700.0  \n",
      "2013-01-07  5281800.0  349100.0  16385200.0  1866600.0  \n",
      "2013-01-08  2269900.0  254400.0  16626800.0  1189000.0  \n",
      "\n",
      "[5 rows x 30 columns]\n"
     ]
    }
   ],
   "source": [
    "price_data = data.get_data_yahoo(symbols,start = '2013-01-01',end = '2018-03-01')\n",
    "print(price_data.head())"
   ]
  },
  {
   "cell_type": "markdown",
   "metadata": {},
   "source": [
    "But we just need the Adjusted Closing price for our returns calculations. So lets select that columns."
   ]
  },
  {
   "cell_type": "code",
   "execution_count": 4,
   "metadata": {},
   "outputs": [
    {
     "name": "stdout",
     "output_type": "stream",
     "text": [
      "Symbols            VOO        VEA         VB        VWO        BND\n",
      "Date                                                              \n",
      "2013-01-02  115.581253  28.805780  74.857475  37.326729  68.750298\n",
      "2013-01-03  115.477432  28.516197  74.812477  37.105087  68.545433\n",
      "2013-01-04  115.961922  28.677080  75.379364  37.170753  68.651955\n",
      "2013-01-07  115.650497  28.532288  75.154419  36.850594  68.602821\n",
      "2013-01-08  115.304459  28.379452  75.010437  36.546867  68.668343\n"
     ]
    }
   ],
   "source": [
    "price_data = price_data['Adj Close']\n",
    "print(price_data.head())"
   ]
  },
  {
   "cell_type": "markdown",
   "metadata": {},
   "source": [
    "We can see that pandas has sorted our columns alphabetically so we need to align our weights correctly to the column names."
   ]
  },
  {
   "cell_type": "code",
   "execution_count": 5,
   "metadata": {},
   "outputs": [],
   "source": [
    "w = [0.1,0.2,0.25,0.25,0.2]"
   ]
  },
  {
   "cell_type": "code",
   "execution_count": 6,
   "metadata": {},
   "outputs": [
    {
     "name": "stdout",
     "output_type": "stream",
     "text": [
      "1.0\n"
     ]
    }
   ],
   "source": [
    "print(sum(w))"
   ]
  },
  {
   "cell_type": "markdown",
   "metadata": {},
   "source": [
    "**Calculate the asset returns in the portfolio**"
   ]
  },
  {
   "cell_type": "code",
   "execution_count": 7,
   "metadata": {},
   "outputs": [
    {
     "name": "stdout",
     "output_type": "stream",
     "text": [
      "Symbols          VOO       VEA        VB       VWO       BND\n",
      "Date                                                        \n",
      "2013-01-03 -0.000898 -0.010053 -0.000601 -0.005938 -0.002980\n",
      "2013-01-04  0.004196  0.005642  0.007577  0.001770  0.001554\n",
      "2013-01-07 -0.002686 -0.005049 -0.002984 -0.008613 -0.000716\n",
      "2013-01-08 -0.002992 -0.005357 -0.001916 -0.008242  0.000955\n",
      "2013-01-09  0.003001  0.004818  0.004319  0.005840 -0.000358\n"
     ]
    }
   ],
   "source": [
    "asset_returns = price_data.pct_change()[1:]\n",
    "print(asset_returns.head())"
   ]
  },
  {
   "cell_type": "markdown",
   "metadata": {},
   "source": [
    "**Calculate the weighted returns of our assets**"
   ]
  },
  {
   "cell_type": "code",
   "execution_count": 8,
   "metadata": {},
   "outputs": [
    {
     "name": "stdout",
     "output_type": "stream",
     "text": [
      "Symbols          VOO       VEA        VB       VWO       BND\n",
      "Date                                                        \n",
      "2013-01-03 -0.000090 -0.002011 -0.000150 -0.001484 -0.000596\n",
      "2013-01-04  0.000420  0.001128  0.001894  0.000442  0.000311\n",
      "2013-01-07 -0.000269 -0.001010 -0.000746 -0.002153 -0.000143\n",
      "2013-01-08 -0.000299 -0.001071 -0.000479 -0.002061  0.000191\n",
      "2013-01-09  0.000300  0.000964  0.001080  0.001460 -0.000072\n"
     ]
    }
   ],
   "source": [
    "weighted_returns = (w * asset_returns)\n",
    "print(weighted_returns.head())"
   ]
  },
  {
   "cell_type": "markdown",
   "metadata": {},
   "source": [
    "**Calculate the Portfolio Returns**\n",
    "\n",
    "Next the portfolio returns are simply the sum of the weighted returns of the assets. So lets add the rows."
   ]
  },
  {
   "cell_type": "code",
   "execution_count": 9,
   "metadata": {},
   "outputs": [],
   "source": [
    "port_ret = weighted_returns.sum(axis=1)"
   ]
  },
  {
   "cell_type": "markdown",
   "metadata": {},
   "source": [
    "Lets plot the histogram of the returns."
   ]
  },
  {
   "cell_type": "code",
   "execution_count": 10,
   "metadata": {},
   "outputs": [
    {
     "data": {
      "image/png": "[encoded data removed]",
      "text/plain": [
       "<Figure size 432x288 with 1 Axes>"
      ]
     },
     "metadata": {
      "needs_background": "light"
     },
     "output_type": "display_data"
    }
   ],
   "source": [
    "fig = plt.figure()\n",
    "ax1 = fig.add_axes([0.1,0.1,0.8,0.8])\n",
    "ax1.hist(port_ret, bins = 60)\n",
    "ax1.set_xlabel('Portfolio returns')\n",
    "ax1.set_ylabel(\"Freq\")\n",
    "ax1.set_title(\"Portfolio Returns calculated manually\")\n",
    "plt.show();"
   ]
  },
  {
   "cell_type": "markdown",
   "metadata": {},
   "source": [
    "**Portfolio mean and standard deviation**"
   ]
  },
  {
   "cell_type": "code",
   "execution_count": 11,
   "metadata": {},
   "outputs": [
    {
     "name": "stdout",
     "output_type": "stream",
     "text": [
      "0.0003151118923507744\n"
     ]
    }
   ],
   "source": [
    "mean_ret = port_ret.mean()\n",
    "std_returns = port_ret.std()\n",
    "print(mean_ret)"
   ]
  },
  {
   "cell_type": "code",
   "execution_count": 12,
   "metadata": {},
   "outputs": [
    {
     "name": "stdout",
     "output_type": "stream",
     "text": [
      "0.0070149751814181415\n"
     ]
    }
   ],
   "source": [
    "print(std_returns)"
   ]
  },
  {
   "cell_type": "markdown",
   "metadata": {},
   "source": [
    "**Calculate the Cumulative Portfolio Returns**\n",
    "\n",
    "To calculate cumulative returns we need to use the **cumprod() function**"
   ]
  },
  {
   "cell_type": "code",
   "execution_count": 13,
   "metadata": {},
   "outputs": [],
   "source": [
    "cumulative_ret = (port_ret + 1).cumprod()"
   ]
  },
  {
   "cell_type": "markdown",
   "metadata": {},
   "source": [
    "Lastly we will plot our portfolios cumulative returns."
   ]
  },
  {
   "cell_type": "code",
   "execution_count": 15,
   "metadata": {},
   "outputs": [
    {
     "data": {
      "image/png": "[encoded data removed]",
      "text/plain": [
       "<Figure size 432x288 with 1 Axes>"
      ]
     },
     "metadata": {
      "needs_background": "light"
     },
     "output_type": "display_data"
    }
   ],
   "source": [
    "fig = plt.figure()\n",
    "ax1 = fig.add_axes([0.1,0.1,0.8,0.8])\n",
    "ax1.plot(cumulative_ret)\n",
    "ax1.set_xlabel('Date')\n",
    "ax1.set_ylabel(\"Cumulative Returns\")\n",
    "ax1.set_title(\"Portfolio Cumulative Returns\")\n",
    "plt.show();"
   ]
  },
  {
   "cell_type": "markdown",
   "metadata": {},
   "source": [
    "**PORTFOLIO STATISTICS**\n",
    "\n",
    "We now have the daily returns data. We will convert it to **geometric average annual returns**"
   ]
  },
  {
   "cell_type": "code",
   "execution_count": 17,
   "metadata": {},
   "outputs": [
    {
     "name": "stdout",
     "output_type": "stream",
     "text": [
      "0.07593328847855951\n"
     ]
    }
   ],
   "source": [
    "geometric_port_return = np.prod(port_ret + 1) ** (252/port_ret.shape[0]) - 1\n",
    "print(geometric_port_return)"
   ]
  },
  {
   "cell_type": "markdown",
   "metadata": {},
   "source": [
    "Next we will calculate the **portfolio standard deviation or volatility**. \n",
    "\n",
    "This is the annual standard deviation for our portfolio."
   ]
  },
  {
   "cell_type": "code",
   "execution_count": 18,
   "metadata": {},
   "outputs": [
    {
     "name": "stdout",
     "output_type": "stream",
     "text": [
      "0.11131640698373665\n"
     ]
    }
   ],
   "source": [
    "annual_std = np.std(port_ret) * np.sqrt(252)\n",
    "print(annual_std)"
   ]
  },
  {
   "cell_type": "markdown",
   "metadata": {},
   "source": [
    "Next we will calculate the **portfolio Sharpe ratio**"
   ]
  },
  {
   "cell_type": "code",
   "execution_count": 19,
   "metadata": {},
   "outputs": [
    {
     "name": "stdout",
     "output_type": "stream",
     "text": [
      "0.6821392329852451\n"
     ]
    }
   ],
   "source": [
    "port_sharpe_ratio = geometric_port_return / annual_std\n",
    "print(port_sharpe_ratio)"
   ]
  }
 ],
 "metadata": {
  "kernelspec": {
   "display_name": "Python",
   "language": "python",
   "name": "conda-env-python-py"
  },
  "language_info": {
   "codemirror_mode": {
    "name": "ipython",
    "version": 3
   },
   "file_extension": ".py",
   "mimetype": "text/x-python",
   "name": "python",
   "nbconvert_exporter": "python",
   "pygments_lexer": "ipython3",
   "version": "3.6.10"
  }
 },
 "nbformat": 4,
 "nbformat_minor": 4
}
